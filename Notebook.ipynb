{
 "cells": [
  {
   "cell_type": "code",
   "execution_count": 1,
   "metadata": {
    "collapsed": true,
    "scrolled": true
   },
   "outputs": [],
   "source": [
    "#import manager\n",
    "#import minecart\n",
    "import pandas as pd\n",
    "from gc import collect\n",
    "from collections import Counter\n",
    "from IPython.display import Markdown"
   ]
  },
  {
   "cell_type": "code",
   "execution_count": 2,
   "metadata": {
    "collapsed": true
   },
   "outputs": [],
   "source": [
    "from pdfminer.pdfinterp import PDFResourceManager, PDFPageInterpreter\n",
    "from pdfminer.converter import TextConverter, XMLConverter\n",
    "from pdfminer.image import ImageWriter\n",
    "from pdfminer.layout import LAParams\n",
    "from pdfminer.pdfpage import PDFPage\n",
    "from cStringIO import StringIO\n",
    "from tabula import read_pdf\n",
    "import tabula\n",
    "# from PIL import Image"
   ]
  },
  {
   "cell_type": "code",
   "execution_count": null,
   "metadata": {
    "collapsed": true
   },
   "outputs": [],
   "source": [
    "def safe_float(x):\n",
    "    try:\n",
    "        return float(x)\n",
    "    except:\n",
    "        return np.nan\n",
    "koshtak.loc[:, \"No.\"] = koshtak[\"No.\"].apply(safe_float)"
   ]
  },
  {
   "cell_type": "code",
   "execution_count": 4,
   "metadata": {
    "collapsed": true
   },
   "outputs": [],
   "source": [
    "rsrcmgr = PDFResourceManager()\n",
    "retstr = StringIO()\n",
    "codec = \"utf-8\"\n",
    "laparams = LAParams()\n",
    "device = (TextConverter if \"x\"==\"text\" else XMLConverter)(rsrcmgr, retstr, codec=codec, laparams=laparams, imagewriter=ImageWriter(\"./images\"))\n",
    "fp = open(path, \"rb\")\n",
    "interpreter = PDFPageInterpreter(rsrcmgr, device)\n",
    "password = \"\"\n",
    "btype=\"xml\"\n",
    "maxpages = 0\n",
    "caching = True\n",
    "pagenos = set()\n",
    "from bs4 import BeautifulSoup as bs\n",
    "for page in PDFPage.get_pages(fp, pagenos, maxpages=maxpages, password=password,caching=caching, check_extractable=True):\n",
    "    interpreter.process_page(page)\n",
    "fp.close()\n",
    "device.close()\n",
    "s = retstr.getvalue()\n",
    "s = bs(s, \"xml\")\n",
    "retstr.close()\n"
   ]
  },
  {
   "cell_type": "code",
   "execution_count": 7,
   "metadata": {
    "collapsed": true,
    "scrolled": true
   },
   "outputs": [],
   "source": [
    "imgs = [{\"id\": x.find_parent(\"page\")[\"id\"], \"src\": x[\"src\"],\n",
    "         \"bbox\": map(float, x.parent[\"bbox\"].split(\",\")),\n",
    "         \"height\": float(x[\"height\"]), \"width\": float(x[\"width\"])}\n",
    "        for x in s.find_all(\"image\")]\n",
    "        #if float(x[\"height\"]) > 50 and float(x[\"width\"]) > 50]"
   ]
  },
  {
   "cell_type": "code",
   "execution_count": 58,
   "metadata": {
    "collapsed": true,
    "scrolled": true
   },
   "outputs": [],
   "source": [
    "lines = []\n",
    "def get_size(t):\n",
    "    return round(np.float(t.get(\"size\") or .0))\n",
    "for page in s.find_all(\"page\"):\n",
    "    imgs_t = [x for x in imgs\n",
    "              if x[\"id\"] == page[\"id\"]]\n",
    "    llines = []\n",
    "    for line in page.find_all(\"textline\"):\n",
    "        d = dict.fromkeys([\"text\", \"fonts\", \"sizes\", \"bbox\"]) #\n",
    "        d[\"bbox\"] = map(float, line[\"bbox\"].split(\",\"))\n",
    "        texts = line.find_all(\"text\")\n",
    "        text = \"\".join([x.text for x in texts])#.strip()\n",
    "#         if len(llines) > 2 and llines[-2][\"raw_text\"].strip(\" \") == \"\\n\"\\\n",
    "#         and llines[-1][\"raw_text\"].strip(\" \") == \"\\n\" and text.strip(\" \") == \"\\n\":\n",
    "#             text = \"\"\n",
    "        if not text:\n",
    "            continue\n",
    "        d[\"text\"] = text.strip().lower()\n",
    "        d[\"raw_text\"] = text\n",
    "        d[\"fonts\"] = [x.get(\"font\") or \"\" for x in texts]\n",
    "        d[\"sizes\"] = [get_size(x) for x in texts]\n",
    "        d[\"pageno\"] = int(line.findParent(\"page\")[\"id\"])\n",
    "        #print d[\"text\"], d[\"bbox\"]\n",
    "        llines.append(d)\n",
    "    for img in imgs_t:\n",
    "        if img[\"height\"] <= 50. and img[\"width\"] <= 50.:\n",
    "            continue\n",
    "        try:\n",
    "            y0s = [line[\"bbox\"][1]\n",
    "                   if line.has_key(\"bbox\") else -10000\n",
    "                   for line in llines]\n",
    "            img_y1 = img[\"bbox\"][3]\n",
    "            i = 0\n",
    "            diff = y0s[i] - img_y1\n",
    "            while diff > 0 and i < len(y0s):\n",
    "                i += 1\n",
    "                if y0s[i] != -10000:\n",
    "                    diff = y0s[i] - img_y1\n",
    "            llines.insert(i, {\n",
    "                \"raw_text\": \"<img src='./images/%s' width='%.2f' height='%.2f'/>\\n\" % (\n",
    "                    img[\"src\"], img[\"width\"], img[\"height\"]),\n",
    "                \"pageno\": int(page[\"id\"])\n",
    "            })\n",
    "        except:\n",
    "            print \"---------kaik locha che--------\\n\"\n",
    "    diffs, skips, useds = {}, [], []\n",
    "#     for i in range(len(llines)):\n",
    "#         if not llines[i].get(\"bbox\") or i in skips:\n",
    "#             continue\n",
    "#         diffs[i] = []\n",
    "#         for j in range(i + 1, len(llines)):\n",
    "#             if not llines[j].get(\"bbox\"): continue\n",
    "#             absd = abs(llines[i][\"bbox\"][1] - llines[j][\"bbox\"][1])\n",
    "#             #print absd, llines[i][\"text\"], llines[j][\"text\"]\n",
    "#             if absd <= 6:\n",
    "#                 skips.append(j)\n",
    "#                 diffs[i].append(j)\n",
    "#         if not diffs[i]:\n",
    "#             diffs.pop(i)\n",
    "#     for i in sorted(diffs.keys()):\n",
    "#         currimgs = []\n",
    "#         for j in imgs_t:\n",
    "#             if abs(llines[i][\"bbox\"][1] - j[\"bbox\"][1]) <= 10:\n",
    "#                 currimgs.append(j)\n",
    "#                 useds.append(j)\n",
    "#         currstr = llines[i][\"raw_text\"].strip() + (\" <img src='./images/%s'/>\" % currimgs.pop(0)[\"src\"] if currimgs else \" \")\n",
    "#         for j in diffs[i]:\n",
    "#             currstr += llines[j][\"raw_text\"].strip() + ((\" <img src='./images/%s'/>\" % currimgs.pop(0)[\"src\"]) if currimgs else \" \") + \" \"\n",
    "#         llines[i][\"raw_text\"] = currstr + \"\\n\"\n",
    "#         llines[i][\"text\"] = currstr.strip()\n",
    "#         #print currstr + \"\\n\"\n",
    "#         #print llines[i][\"raw_text\"].strip() + \" \" + \" \".join([ ])\n",
    "#     for j in useds:\n",
    "#         imgs_t.remove(j)\n",
    "#     # for x in sorted([y for x in diffs.values() for y in x], reverse=True):\n",
    "#     #     del llines[x]\n",
    "#     for i in imgs_t:\n",
    "#         for j in llines:\n",
    "#             if j.has_key(\"bbox\") and abs(i[\"bbox\"][1] - j[\"bbox\"][1]) <= 10:\n",
    "#                 j[\"raw_text\"] = \"<img src='./images/%s'/> \" % i[\"src\"] + j[\"raw_text\"]\n",
    "    lines.extend(llines)\n"
   ]
  },
  {
   "cell_type": "code",
   "execution_count": 59,
   "metadata": {
    "collapsed": true
   },
   "outputs": [],
   "source": [
    "df_lines = pd.DataFrame.from_dict(lines).assign(\n",
    "    freqsize=lambda x: x[\"sizes\"].fillna(\"\").apply(lambda y: Counter(y).most_common(1)[0][0] if y else 0.)).drop(\"sizes\", 1).assign(\n",
    "    freqfont=lambda x: x[\"fonts\"].fillna(\"\").apply(lambda y: Counter(y).most_common(1)[0][0] if y else \"NA\")).drop(\"fonts\", 1)"
   ]
  }
 ],
 "metadata": {
  "kernelspec": {
   "display_name": "Python 2",
   "language": "python",
   "name": "python2"
  },
  "language_info": {
   "codemirror_mode": {
    "name": "ipython",
    "version": 2
   },
   "file_extension": ".py",
   "mimetype": "text/x-python",
   "name": "python",
   "nbconvert_exporter": "python",
   "pygments_lexer": "ipython2",
   "version": "2.7.14"
  }
 },
 "nbformat": 4,
 "nbformat_minor": 2
}
