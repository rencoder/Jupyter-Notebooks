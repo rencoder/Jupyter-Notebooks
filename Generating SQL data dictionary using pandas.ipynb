{
 "cells": [
  {
   "cell_type": "code",
   "execution_count": null,
   "metadata": {},
   "outputs": [],
   "source": [
    "import pandas as pd\n",
    "import numpy as np\n",
    "from sqlalchemy import create_engine\n",
    "from IPython.display import display, HTML"
   ]
  },
  {
   "cell_type": "code",
   "execution_count": null,
   "metadata": {},
   "outputs": [],
   "source": [
    "engine = create_engine(f\"mssql+pyodbc://{server}/{dbname}?driver=SQL+Server+Native+Client+11.0\")\n",
    "conn = engine.connect()"
   ]
  },
  {
   "cell_type": "code",
   "execution_count": null,
   "metadata": {},
   "outputs": [],
   "source": [
    "d = pd.read_sql_query(\"\"\"\n",
    "SELECT * FROM INFORMATION_SCHEMA.COLUMNS\n",
    "ORDER BY ORDINAL_POSITION\n",
    "\"\"\", conn).drop(\"TABLE_CATALOG\", 1)"
   ]
  },
  {
   "cell_type": "code",
   "execution_count": null,
   "metadata": {},
   "outputs": [],
   "source": [
    "temp = []\n",
    "for t in d.TABLE_NAME.unique():\n",
    "    schema = d.query(\"TABLE_NAME==@t\").TABLE_SCHEMA.iloc[0]\n",
    "    df = pd.read_sql_query(f\"\"\"\n",
    "    SELECT '{t}' as TABLE_NAME, objname AS COLUMN_NAME, cast([value] AS VARCHAR) as DESCRIPTION\n",
    "    FROM fn_listextendedproperty (NULL, 'schema', '{schema}', 'table', '{t}', 'column', default); \n",
    "    \"\"\", conn)\n",
    "    if df.shape[0] > 0:\n",
    "        temp.append(df[[\"TABLE_NAME\", \"COLUMN_NAME\", \"DESCRIPTION\"]])\n",
    "temp = pd.concat(temp)\n",
    "d = d.merge(temp, \"left\", on=[\"TABLE_NAME\", \"COLUMN_NAME\"])"
   ]
  },
  {
   "cell_type": "code",
   "execution_count": null,
   "metadata": {},
   "outputs": [],
   "source": [
    "d.loc[:, \"DATA_TYPE\"] = d.apply(lambda x: f\"{x.DATA_TYPE} ({int(x.CHARACTER_MAXIMUM_LENGTH)})\" if\\\n",
    "                                (not np.isnan(x.CHARACTER_MAXIMUM_LENGTH)) else x.DATA_TYPE, axis=1)\n",
    "d.drop(\"CHARACTER_MAXIMUM_LENGTH\", 1, inplace=True)"
   ]
  },
  {
   "cell_type": "code",
   "execution_count": null,
   "metadata": {},
   "outputs": [],
   "source": [
    "c = pd.read_sql_query(\"\"\"\n",
    "    select schema_name(t.schema_id) as TABLE_SCHEMA, t.[name] as TABLE_NAME, \n",
    "        case when t.[type] = 'U' then 'Table'\n",
    "            when t.[type] = 'V' then 'View'\n",
    "            end as [object_type],\n",
    "        case when c.[type] = 'PK' then 'Primary key'\n",
    "            when c.[type] = 'UQ' then 'Unique constraint'\n",
    "            when i.[type] = 1 then 'Unique clustered index'\n",
    "            when i.type = 2 then 'Unique index'\n",
    "            end as constraint_type, \n",
    "        isnull(c.[name], i.[name]) as constraint_name,\n",
    "        substring(column_names, 1, len(column_names)-1) as [details]\n",
    "    from sys.objects t\n",
    "        left outer join sys.indexes i\n",
    "            on t.object_id = i.object_id\n",
    "        left outer join sys.key_constraints c\n",
    "            on i.object_id = c.parent_object_id \n",
    "            and i.index_id = c.unique_index_id\n",
    "       cross apply (select col.[name] + ', '\n",
    "                        from sys.index_columns ic\n",
    "                            inner join sys.columns col\n",
    "                                on ic.object_id = col.object_id\n",
    "                                and ic.column_id = col.column_id\n",
    "                        where ic.object_id = t.object_id\n",
    "                            and ic.index_id = i.index_id\n",
    "                                order by col.column_id\n",
    "                                for xml path ('') ) D (column_names)\n",
    "    where is_unique = 1\n",
    "    and t.is_ms_shipped <> 1\n",
    "    union all \n",
    "    select schema_name(fk_tab.schema_id) as TABLE_SCHEMA, fk_tab.name as TABLE_NAME,\n",
    "        'Table',\n",
    "        'Foreign key',\n",
    "        fk.name as fk_constraint_name,\n",
    "        schema_name(pk_tab.schema_id) + '.' + pk_tab.name\n",
    "    from sys.foreign_keys fk\n",
    "        inner join sys.tables fk_tab\n",
    "            on fk_tab.object_id = fk.parent_object_id\n",
    "        inner join sys.tables pk_tab\n",
    "            on pk_tab.object_id = fk.referenced_object_id\n",
    "        inner join sys.foreign_key_columns fk_cols\n",
    "            on fk_cols.constraint_object_id = fk.object_id\n",
    "    union all\n",
    "    select schema_name(t.schema_id) AS TABLE_SCHEMA, t.[name] AS TABLE_NAME,\n",
    "        'Table',\n",
    "        'Check constraint',\n",
    "        con.[name] as constraint_name,\n",
    "        con.[definition]\n",
    "    from sys.check_constraints con\n",
    "        left outer join sys.objects t\n",
    "            on con.parent_object_id = t.object_id\n",
    "        left outer join sys.all_columns col\n",
    "            on con.parent_column_id = col.column_id\n",
    "            and con.parent_object_id = col.object_id\"\"\", conn)"
   ]
  },
  {
   "cell_type": "code",
   "execution_count": null,
   "metadata": {
    "jupyter": {
     "outputs_hidden": true
    }
   },
   "outputs": [],
   "source": [
    "temp = \"\"\n",
    "for g in d.groupby([\"TABLE_SCHEMA\", \"TABLE_NAME\"]):\n",
    "    temp += f\"\\r\\n<h2>{'.'.join(g[0])}</h2>\\r\\n\"\n",
    "    temp += \"<h3>Schema</h3>\\r\\n\"\n",
    "    temp += g[1][[\"COLUMN_NAME\", \"IS_NULLABLE\", \"DATA_TYPE\", \"DESCRIPTION\"]]\\\n",
    "    .rename(columns={\"COLUMN_NAME\": \"Attribute\", \"IS_NULLABLE\": \"Nullable\",\n",
    "                     \"DATA_TYPE\": \"Data Type\", \"DESCRIPTION\": \"Description\"})\\\n",
    "    .to_html(col_space=25, na_rep=\"-\", index=False, classes=\"mystyle\")\n",
    "    g = c.query(\"TABLE_SCHEMA==@g[0][0] and TABLE_NAME==@g[0][1]\")\n",
    "    if g.shape[0]>0:\n",
    "        temp += \"<h3>Constraints</h3>\\r\\n\"\n",
    "        temp += g.to_html(col_space=25, na_rep=\"-\", index=False)\n",
    "display(HTML(temp))\n"
   ]
  },
  {
   "cell_type": "markdown",
   "metadata": {},
   "source": [
    "## Sources\n",
    "https://dataedo.com/kb/query/sql-server/list-all-table-constraints\n",
    "<br>https://docs.microsoft.com/en-us/sql/relational-databases/system-functions/sys-fn-listextendedproperty-transact-sql"
   ]
  }
 ],
 "metadata": {
  "kernelspec": {
   "display_name": "Python 3",
   "language": "python",
   "name": "python3"
  },
  "language_info": {
   "codemirror_mode": {
    "name": "ipython",
    "version": 3
   },
   "file_extension": ".py",
   "mimetype": "text/x-python",
   "name": "python",
   "nbconvert_exporter": "python",
   "pygments_lexer": "ipython3",
   "version": "3.6.8"
  }
 },
 "nbformat": 4,
 "nbformat_minor": 2
}
